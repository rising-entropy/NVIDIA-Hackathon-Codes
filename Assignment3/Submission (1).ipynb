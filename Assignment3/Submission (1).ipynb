{
 "cells": [
  {
   "cell_type": "code",
   "execution_count": 1,
   "metadata": {},
   "outputs": [
    {
     "name": "stdout",
     "output_type": "stream",
     "text": [
      "nvcc: NVIDIA (R) Cuda compiler driver\n",
      "Copyright (c) 2005-2019 NVIDIA Corporation\n",
      "Built on Wed_Oct_23_19:24:38_PDT_2019\n",
      "Cuda compilation tools, release 10.2, V10.2.89\n"
     ]
    }
   ],
   "source": [
    "!nvcc --version"
   ]
  },
  {
   "cell_type": "code",
   "execution_count": 20,
   "metadata": {},
   "outputs": [
    {
     "name": "stdout",
     "output_type": "stream",
     "text": [
      "sequential.cu(19): warning: variable \"line\" was declared but never referenced\n",
      "\n",
      "sequential.cu(22): warning: variable \"i\" was declared but never referenced\n",
      "\n",
      "======== Warning: No profile data collected.\n",
      "\n",
      "real\t0m0.140s\n",
      "user\t0m0.136s\n",
      "sys\t0m0.004s\n"
     ]
    }
   ],
   "source": [
    "# Series\n",
    "!nvcc -o sequential sequential.cu\n",
    "!nvprof  ./sequential\n",
    "!time ./sequential\n",
    "# !nsys profile --stats=true -o vector-add-no-prefetch-report ./a.out"
   ]
  },
  {
   "cell_type": "code",
   "execution_count": 21,
   "metadata": {},
   "outputs": [
    {
     "name": "stdout",
     "output_type": "stream",
     "text": [
      "parallel.cu(38): warning: variable \"line\" was declared but never referenced\n",
      "\n",
      "parallel.cu(41): warning: variable \"i\" was declared but never referenced\n",
      "\n",
      "parallel.cu(101): warning: variable \"m2\" was set but never used\n",
      "\n",
      "parallel.cu(101): warning: variable \"c2\" was set but never used\n",
      "\n",
      "parallel.cu(126): warning: variable \"output_final\" was declared but never referenced\n",
      "\n",
      "==896== NVPROF is profiling process 896, command: ./parallel\n",
      "==896== Profiling application: ./parallel\n",
      "==896== Warning: 23 API trace records have same start and end timestamps.\n",
      "This can happen because of short execution duration of CUDA APIs and low timer resolution on the underlying operating system.\n",
      "==896== Profiling result:\n",
      "            Type  Time(%)      Time     Calls       Avg       Min       Max  Name\n",
      " GPU activities:  100.00%  2.2058ms         1  2.2058ms  2.2058ms  2.2058ms  computeConvolutionValue(int, int, int, int, int, int*, int*, int*, int, int)\n",
      "      API calls:   96.96%  264.73ms         3  88.243ms  11.407us  264.67ms  cudaMallocManaged\n",
      "                    1.03%  2.8168ms         4  704.21us  703.20us  706.30us  cuDeviceTotalMem\n",
      "                    0.95%  2.6053ms       388  6.7140us       0ns  239.73us  cuDeviceGetAttribute\n",
      "                    0.81%  2.2095ms         1  2.2095ms  2.2095ms  2.2095ms  cudaDeviceSynchronize\n",
      "                    0.16%  424.90us         3  141.63us  23.874us  277.53us  cudaFree\n",
      "                    0.07%  180.48us         4  45.121us  43.726us  48.037us  cuDeviceGetName\n",
      "                    0.02%  45.031us         1  45.031us  45.031us  45.031us  cudaLaunchKernel\n",
      "                    0.00%  9.6750us         4  2.4180us  1.8720us  3.3180us  cuDeviceGetPCIBusId\n",
      "                    0.00%  8.4790us         8  1.0590us     639ns  2.0670us  cuDeviceGet\n",
      "                    0.00%  3.0950us         4     773ns     744ns     821ns  cuDeviceGetUuid\n",
      "                    0.00%  3.0340us         3  1.0110us     694ns  1.3800us  cuDeviceGetCount\n",
      "\n",
      "==896== Unified Memory profiling result:\n",
      "Device \"Tesla V100-SXM2-16GB (0)\"\n",
      "   Count  Avg Size  Min Size  Max Size  Total Size  Total Time  Name\n",
      "      93  33.720KB  4.0000KB  528.00KB  3.062500MB  537.1200us  Host To Device\n",
      "      10  102.40KB  4.0000KB  508.00KB  1.000000MB  91.61600us  Device To Host\n",
      "       8         -         -         -           -  2.176928ms  Gpu page fault groups\n",
      "Total CPU Page faults: 17\n",
      "\n",
      "real\t0m0.603s\n",
      "user\t0m0.192s\n",
      "sys\t0m0.408s\n"
     ]
    }
   ],
   "source": [
    "# Parallel\n",
    "!nvcc -o parallel parallel.cu\n",
    "!nvprof ./parallel\n",
    "!time ./parallel"
   ]
  },
  {
   "cell_type": "code",
   "execution_count": 46,
   "metadata": {},
   "outputs": [
    {
     "data": {
      "application/javascript": [
       "var url = window.location.hostname + '/nsight/';\n",
       "element.append(url)\n"
      ],
      "text/plain": [
       "<IPython.core.display.Javascript object>"
      ]
     },
     "metadata": {},
     "output_type": "display_data"
    }
   ],
   "source": [
    "%%js\n",
    "var url = window.location.hostname + '/nsight/';\n",
    "element.append(url)"
   ]
  }
 ],
 "metadata": {
  "kernelspec": {
   "display_name": "Python 3",
   "language": "python",
   "name": "python3"
  },
  "language_info": {
   "codemirror_mode": {
    "name": "ipython",
    "version": 3
   },
   "file_extension": ".py",
   "mimetype": "text/x-python",
   "name": "python",
   "nbconvert_exporter": "python",
   "pygments_lexer": "ipython3",
   "version": "3.8.3"
  }
 },
 "nbformat": 4,
 "nbformat_minor": 4
}
