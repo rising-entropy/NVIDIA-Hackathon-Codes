{
 "cells": [
  {
   "cell_type": "code",
   "execution_count": 1,
   "metadata": {},
   "outputs": [
    {
     "name": "stdout",
     "output_type": "stream",
     "text": [
      "nvcc: NVIDIA (R) Cuda compiler driver\n",
      "Copyright (c) 2005-2019 NVIDIA Corporation\n",
      "Built on Wed_Oct_23_19:24:38_PDT_2019\n",
      "Cuda compilation tools, release 10.2, V10.2.89\n"
     ]
    }
   ],
   "source": [
    "!nvcc --version"
   ]
  },
  {
   "cell_type": "code",
   "execution_count": 78,
   "metadata": {},
   "outputs": [
    {
     "name": "stdout",
     "output_type": "stream",
     "text": [
      "======== Warning: No profile data collected.\n",
      "\n",
      "real\t0m52.425s\n",
      "user\t0m52.420s\n",
      "sys\t0m0.000s\n"
     ]
    }
   ],
   "source": [
    "# Series\n",
    "!nvcc -o sequential sequential.cu\n",
    "!nvprof  ./sequential\n",
    "!time ./sequential\n",
    "# !nsys profile --stats=true -o vector-add-no-prefetch-report ./a.out"
   ]
  },
  {
   "cell_type": "code",
   "execution_count": 80,
   "metadata": {},
   "outputs": [
    {
     "name": "stdout",
     "output_type": "stream",
     "text": [
      "==2971== NVPROF is profiling process 2971, command: ./parallel\n",
      "==2971== Profiling application: ./parallel\n",
      "==2971== Profiling result:\n",
      "            Type  Time(%)      Time     Calls       Avg       Min       Max  Name\n",
      " GPU activities:   96.54%  700.03ms         1  700.03ms  700.03ms  700.03ms  parallelBubbleSorting(int*, int, int)\n",
      "                    3.46%  25.066ms         5  5.0131ms  1.7042ms  11.100ms  parallelMerging(int*, int*, int, int)\n",
      "      API calls:   72.63%  725.14ms         7  103.59ms  9.6190us  700.04ms  cudaDeviceSynchronize\n",
      "                   26.80%  267.58ms         2  133.79ms  19.231us  267.56ms  cudaMallocManaged\n",
      "                    0.29%  2.8460ms         4  711.49us  702.90us  727.20us  cuDeviceTotalMem\n",
      "                    0.26%  2.5593ms       388  6.5960us     633ns  232.01us  cuDeviceGetAttribute\n",
      "                    0.02%  178.23us         4  44.557us  43.337us  47.264us  cuDeviceGetName\n",
      "                    0.01%  104.25us         6  17.375us  9.0670us  40.698us  cudaLaunchKernel\n",
      "                    0.00%  9.6400us         4  2.4100us  1.9380us  3.3660us  cuDeviceGetPCIBusId\n",
      "                    0.00%  6.7820us         8     847ns     675ns  1.0660us  cuDeviceGet\n",
      "                    0.00%  5.1480us         2  2.5740us  1.3380us  3.8100us  cudaFree\n",
      "                    0.00%  3.0730us         4     768ns     719ns     879ns  cuDeviceGetUuid\n",
      "                    0.00%  2.8710us         3     957ns     641ns  1.2160us  cuDeviceGetCount\n",
      "\n",
      "==2971== Unified Memory profiling result:\n",
      "Device \"Tesla V100-SXM2-16GB (0)\"\n",
      "   Count  Avg Size  Min Size  Max Size  Total Size  Total Time  Name\n",
      "      64  8.0000KB  4.0000KB  132.00KB  512.0000KB  214.1760us  Host To Device\n",
      "       8  64.000KB  4.0000KB  252.00KB  512.0000KB  49.28000us  Device To Host\n",
      "       2         -         -         -           -  953.7280us  Gpu page fault groups\n",
      "Total CPU Page faults: 8\n",
      "\n",
      "real\t0m1.133s\n",
      "user\t0m0.340s\n",
      "sys\t0m0.788s\n"
     ]
    }
   ],
   "source": [
    "# Parallel\n",
    "!nvcc -o parallel parallel.cu\n",
    "!nvprof ./parallel\n",
    "!time ./parallel"
   ]
  },
  {
   "cell_type": "code",
   "execution_count": 46,
   "metadata": {},
   "outputs": [
    {
     "data": {
      "application/javascript": [
       "var url = window.location.hostname + '/nsight/';\n",
       "element.append(url)\n"
      ],
      "text/plain": [
       "<IPython.core.display.Javascript object>"
      ]
     },
     "metadata": {},
     "output_type": "display_data"
    }
   ],
   "source": [
    "%%js\n",
    "var url = window.location.hostname + '/nsight/';\n",
    "element.append(url)"
   ]
  }
 ],
 "metadata": {
  "kernelspec": {
   "display_name": "Python 3",
   "language": "python",
   "name": "python3"
  },
  "language_info": {
   "codemirror_mode": {
    "name": "ipython",
    "version": 3
   },
   "file_extension": ".py",
   "mimetype": "text/x-python",
   "name": "python",
   "nbconvert_exporter": "python",
   "pygments_lexer": "ipython3",
   "version": "3.8.3"
  }
 },
 "nbformat": 4,
 "nbformat_minor": 4
}
