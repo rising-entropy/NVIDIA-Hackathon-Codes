{
 "cells": [
  {
   "cell_type": "code",
   "execution_count": 1,
   "metadata": {},
   "outputs": [
    {
     "name": "stdout",
     "output_type": "stream",
     "text": [
      "nvcc: NVIDIA (R) Cuda compiler driver\n",
      "Copyright (c) 2005-2019 NVIDIA Corporation\n",
      "Built on Wed_Oct_23_19:24:38_PDT_2019\n",
      "Cuda compilation tools, release 10.2, V10.2.89\n"
     ]
    }
   ],
   "source": [
    "!nvcc --version"
   ]
  },
  {
   "cell_type": "code",
   "execution_count": 62,
   "metadata": {},
   "outputs": [
    {
     "name": "stdout",
     "output_type": "stream",
     "text": [
      "======== Warning: No profile data collected.\n"
     ]
    }
   ],
   "source": [
    "# Series\n",
    "!nvcc -o sequential sequential.cu\n",
    "!nvprof  ./sequential\n",
    "# !nsys profile --stats=true -o vector-add-no-prefetch-report ./a.out"
   ]
  },
  {
   "cell_type": "code",
   "execution_count": 64,
   "metadata": {},
   "outputs": [
    {
     "name": "stdout",
     "output_type": "stream",
     "text": [
      "parallel.cu(55): warning: variable \"doubleType\" was declared but never referenced\n",
      "\n",
      "==1910== NVPROF is profiling process 1910, command: ./parallel\n",
      "==1910== Profiling application: ./parallel\n",
      "==1910== Profiling result:\n",
      "            Type  Time(%)      Time     Calls       Avg       Min       Max  Name\n",
      " GPU activities:   79.68%  1.1911ms         1  1.1911ms  1.1911ms  1.1911ms  computePrefixSum(double*, double*, int, int)\n",
      "                   20.32%  303.71us         1  303.71us  303.71us  303.71us  computeFinalSum(double*, double*, int, int)\n",
      "      API calls:   97.39%  269.44ms         2  134.72ms  20.274us  269.42ms  cudaMallocManaged\n",
      "                    1.04%  2.8722ms         4  718.06us  703.29us  735.46us  cuDeviceTotalMem\n",
      "                    0.92%  2.5494ms       388  6.5700us     635ns  212.48us  cuDeviceGetAttribute\n",
      "                    0.54%  1.5038ms         2  751.88us  307.59us  1.1962ms  cudaDeviceSynchronize\n",
      "                    0.07%  181.81us         4  45.452us  43.223us  47.835us  cuDeviceGetName\n",
      "                    0.02%  59.785us         2  29.892us  20.731us  39.054us  cudaLaunchKernel\n",
      "                    0.01%  40.116us         1  40.116us  40.116us  40.116us  cudaFree\n",
      "                    0.00%  9.6160us         4  2.4040us  1.8910us  3.1250us  cuDeviceGetPCIBusId\n",
      "                    0.00%  7.1790us         8     897ns     685ns  1.1970us  cuDeviceGet\n",
      "                    0.00%  3.0470us         3  1.0150us     651ns  1.3630us  cuDeviceGetCount\n",
      "                    0.00%  2.9660us         4     741ns     694ns     813ns  cuDeviceGetUuid\n",
      "\n",
      "==1910== Unified Memory profiling result:\n",
      "Device \"Tesla V100-SXM2-16GB (0)\"\n",
      "   Count  Avg Size  Min Size  Max Size  Total Size  Total Time  Name\n",
      "      28  38.856KB  4.0000KB  208.00KB  1.062500MB  169.8560us  Host To Device\n",
      "      13  83.691KB  4.0000KB  508.00KB  1.062500MB  100.9600us  Device To Host\n",
      "       5         -         -         -           -  1.117600ms  Gpu page fault groups\n",
      "Total CPU Page faults: 11\n"
     ]
    }
   ],
   "source": [
    "# Parallel\n",
    "!nvcc -o parallel parallel.cu\n",
    "!nvprof ./parallel"
   ]
  },
  {
   "cell_type": "code",
   "execution_count": 46,
   "metadata": {},
   "outputs": [
    {
     "data": {
      "application/javascript": [
       "var url = window.location.hostname + '/nsight/';\n",
       "element.append(url)\n"
      ],
      "text/plain": [
       "<IPython.core.display.Javascript object>"
      ]
     },
     "metadata": {},
     "output_type": "display_data"
    }
   ],
   "source": [
    "%%js\n",
    "var url = window.location.hostname + '/nsight/';\n",
    "element.append(url)"
   ]
  }
 ],
 "metadata": {
  "kernelspec": {
   "display_name": "Python 3",
   "language": "python",
   "name": "python3"
  },
  "language_info": {
   "codemirror_mode": {
    "name": "ipython",
    "version": 3
   },
   "file_extension": ".py",
   "mimetype": "text/x-python",
   "name": "python",
   "nbconvert_exporter": "python",
   "pygments_lexer": "ipython3",
   "version": "3.8.3"
  }
 },
 "nbformat": 4,
 "nbformat_minor": 4
}
