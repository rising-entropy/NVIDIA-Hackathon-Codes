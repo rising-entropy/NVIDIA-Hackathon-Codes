{
 "cells": [
  {
   "cell_type": "code",
   "execution_count": 1,
   "metadata": {},
   "outputs": [
    {
     "name": "stdout",
     "output_type": "stream",
     "text": [
      "nvcc: NVIDIA (R) Cuda compiler driver\n",
      "Copyright (c) 2005-2019 NVIDIA Corporation\n",
      "Built on Wed_Oct_23_19:24:38_PDT_2019\n",
      "Cuda compilation tools, release 10.2, V10.2.89\n"
     ]
    }
   ],
   "source": [
    "!nvcc --version"
   ]
  },
  {
   "cell_type": "code",
   "execution_count": 2,
   "metadata": {},
   "outputs": [
    {
     "name": "stdout",
     "output_type": "stream",
     "text": [
      "sequential.cu(7): warning: variable \"line\" was declared but never referenced\n",
      "\n",
      "======== Warning: No profile data collected.\n",
      "\n",
      "real\t0m0.001s\n",
      "user\t0m0.000s\n",
      "sys\t0m0.000s\n"
     ]
    }
   ],
   "source": [
    "# Series\n",
    "!nvcc -o sequential sequential.cu\n",
    "!nvprof  ./sequential\n",
    "!time ./sequential\n",
    "# !nsys profile --stats=true -o vector-add-no-prefetch-report ./a.out"
   ]
  },
  {
   "cell_type": "code",
   "execution_count": 25,
   "metadata": {},
   "outputs": [
    {
     "name": "stdout",
     "output_type": "stream",
     "text": [
      "parallel.cu(21): warning: variable \"line\" was declared but never referenced\n",
      "\n",
      "parallel.cu(31): warning: variable \"output\" was declared but never referenced\n",
      "\n",
      "==1930== NVPROF is profiling process 1930, command: ./parallel\n",
      "==1930== Profiling application: ./parallel\n",
      "==1930== Warning: 13 API trace records have same start and end timestamps.\n",
      "This can happen because of short execution duration of CUDA APIs and low timer resolution on the underlying operating system.\n",
      "==1930== Profiling result:\n",
      "            Type  Time(%)      Time     Calls       Avg       Min       Max  Name\n",
      " GPU activities:  100.00%  607.94us         1  607.94us  607.94us  607.94us  computeSparseMultiplication(double*, double*, double*, int, int, int)\n",
      "      API calls:   97.68%  268.11ms         3  89.371ms  9.6760us  268.08ms  cudaMallocManaged\n",
      "                    1.03%  2.8354ms         4  708.84us  706.28us  709.98us  cuDeviceTotalMem\n",
      "                    0.93%  2.5451ms       388  6.5590us       0ns  218.08us  cuDeviceGetAttribute\n",
      "                    0.22%  612.91us         1  612.91us  612.91us  612.91us  cudaDeviceSynchronize\n",
      "                    0.06%  178.28us         4  44.569us  43.494us  47.475us  cuDeviceGetName\n",
      "                    0.05%  138.60us         3  46.199us  15.565us  89.030us  cudaFree\n",
      "                    0.01%  35.758us         1  35.758us  35.758us  35.758us  cudaLaunchKernel\n",
      "                    0.00%  10.013us         4  2.5030us  1.7510us  3.2940us  cuDeviceGetPCIBusId\n",
      "                    0.00%  5.0930us         8     636ns       0ns  2.0870us  cuDeviceGet\n",
      "                    0.00%  3.1910us         4     797ns     748ns     874ns  cuDeviceGetUuid\n",
      "                    0.00%  3.0800us         3  1.0260us     683ns  1.3690us  cuDeviceGetCount\n",
      "\n",
      "==1930== Unified Memory profiling result:\n",
      "Device \"Tesla V100-SXM2-16GB (0)\"\n",
      "   Count  Avg Size  Min Size  Max Size  Total Size  Total Time  Name\n",
      "       2  32.000KB  4.0000KB  60.000KB  64.00000KB  10.68800us  Host To Device\n",
      "       2  32.000KB  4.0000KB  60.000KB  64.00000KB  7.456000us  Device To Host\n",
      "       1         -         -         -           -  602.5920us  Gpu page fault groups\n",
      "Total CPU Page faults: 2\n",
      "\n",
      "real\t0m0.448s\n",
      "user\t0m0.036s\n",
      "sys\t0m0.408s\n"
     ]
    }
   ],
   "source": [
    "# Parallel\n",
    "!nvcc -o parallel parallel.cu\n",
    "!nvprof ./parallel\n",
    "!time ./parallel"
   ]
  },
  {
   "cell_type": "code",
   "execution_count": 46,
   "metadata": {},
   "outputs": [
    {
     "data": {
      "application/javascript": [
       "var url = window.location.hostname + '/nsight/';\n",
       "element.append(url)\n"
      ],
      "text/plain": [
       "<IPython.core.display.Javascript object>"
      ]
     },
     "metadata": {},
     "output_type": "display_data"
    }
   ],
   "source": [
    "%%js\n",
    "var url = window.location.hostname + '/nsight/';\n",
    "element.append(url)"
   ]
  }
 ],
 "metadata": {
  "kernelspec": {
   "display_name": "Python 3",
   "language": "python",
   "name": "python3"
  },
  "language_info": {
   "codemirror_mode": {
    "name": "ipython",
    "version": 3
   },
   "file_extension": ".py",
   "mimetype": "text/x-python",
   "name": "python",
   "nbconvert_exporter": "python",
   "pygments_lexer": "ipython3",
   "version": "3.8.3"
  }
 },
 "nbformat": 4,
 "nbformat_minor": 4
}
